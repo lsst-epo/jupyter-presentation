{
 "cells": [
  {
   "cell_type": "markdown",
   "metadata": {},
   "source": [
    "## What are containers?\n",
    "\n",
    "Industry definition.\n",
    "\n",
    " > \"A way to specify a computing environment to use with your software.\"\n",
    " >Andrew Odewahn\n",
    " \n",
    "Academic definition. \n",
    " \n",
    " > \"A container (eg. a Docker container) is an instance of an application that isolates its view of the operating system. It shares many of the advantages of Virtual Machines without the overheads and can be well orchestrated for scalability.\"\n",
    " >DM Science Platform Review\n",
    "\n",
    "\n",
    "## Docker\n",
    "\n",
    "A specific implementation of the container concept.\n",
    "\n",
    "## Resources\n",
    "* https://www.docker.com/\n",
    "* https://www.docker.com/what-container"
   ]
  },
  {
   "cell_type": "markdown",
   "metadata": {},
   "source": [
    "## What is a Docker image?\n",
    "\n",
    "The definition of the container.\n"
   ]
  },
  {
   "cell_type": "markdown",
   "metadata": {},
   "source": [
    "## What is an Docker instance?\n",
    "\n",
    "It's a running docker image."
   ]
  },
  {
   "cell_type": "code",
   "execution_count": null,
   "metadata": {},
   "outputs": [],
   "source": []
  }
 ],
 "metadata": {
  "kernelspec": {
   "display_name": "Python 3",
   "language": "python",
   "name": "python3"
  },
  "language_info": {
   "codemirror_mode": {
    "name": "ipython",
    "version": 3
   },
   "file_extension": ".py",
   "mimetype": "text/x-python",
   "name": "python",
   "nbconvert_exporter": "python",
   "pygments_lexer": "ipython3",
   "version": "3.4.5"
  }
 },
 "nbformat": 4,
 "nbformat_minor": 2
}
