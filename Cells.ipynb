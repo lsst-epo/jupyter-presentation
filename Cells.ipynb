{
 "cells": [
  {
   "cell_type": "markdown",
   "metadata": {
    "raw_mimetype": "text/html",
    "slideshow": {
     "slide_type": "slide"
    }
   },
   "source": [
    "<img src=\"https://i.ytimg.com/vi/dNVqNCg18ys/maxresdefault.jpg\"/>"
   ]
  },
  {
   "cell_type": "code",
   "execution_count": 6,
   "metadata": {
    "slideshow": {
     "slide_type": "slide"
    }
   },
   "outputs": [
    {
     "data": {
      "text/html": [
       "<iframe src=\"https://player.vimeo.com/video/95066828?portrait=0\" width=\"640\" height=\"360\" frameborder=\"0\" webkitallowfullscreen mozallowfullscreen allowfullscreen></iframe>"
      ],
      "text/plain": [
       "<IPython.core.display.HTML object>"
      ]
     },
     "execution_count": 6,
     "metadata": {},
     "output_type": "execute_result"
    }
   ],
   "source": [
    "from IPython.display import HTML\n",
    "HTML('<iframe src=\"https://player.vimeo.com/video/95066828?portrait=0\" width=\"640\" height=\"360\" frameborder=\"0\" webkitallowfullscreen mozallowfullscreen allowfullscreen></iframe>')"
   ]
  },
  {
   "cell_type": "code",
   "execution_count": 2,
   "metadata": {},
   "outputs": [
    {
     "ename": "ImportError",
     "evalue": "No module named 'r2d2'",
     "output_type": "error",
     "traceback": [
      "\u001b[0;31m---------------------------------------------------------------------------\u001b[0m",
      "\u001b[0;31mImportError\u001b[0m                               Traceback (most recent call last)",
      "\u001b[0;32m<ipython-input-2-38a556df921f>\u001b[0m in \u001b[0;36m<module>\u001b[0;34m()\u001b[0m\n\u001b[1;32m      1\u001b[0m \u001b[0;31m# The python library is not installed on your kernel.\u001b[0m\u001b[0;34m\u001b[0m\u001b[0;34m\u001b[0m\u001b[0m\n\u001b[0;32m----> 2\u001b[0;31m \u001b[0;32mimport\u001b[0m \u001b[0mr2d2\u001b[0m\u001b[0;34m\u001b[0m\u001b[0m\n\u001b[0m",
      "\u001b[0;31mImportError\u001b[0m: No module named 'r2d2'"
     ]
    }
   ],
   "source": [
    "# The python library is not installed on your kernel.\n",
    "import r2d2"
   ]
  },
  {
   "cell_type": "code",
   "execution_count": 8,
   "metadata": {
    "slideshow": {
     "slide_type": "skip"
    }
   },
   "outputs": [
    {
     "data": {
      "text/html": [
       "<iframe src=\"http://maps.lsst.rocks/epo/hsc/better/\" width=\"640\" height=\"360\" frameborder=\"0\" webkitallowfullscreen mozallowfullscreen allowfullscreen></iframe>"
      ],
      "text/plain": [
       "<IPython.core.display.HTML object>"
      ]
     },
     "execution_count": 8,
     "metadata": {},
     "output_type": "execute_result"
    }
   ],
   "source": [
    "# Nope. Requires HTTPS.\n",
    "from IPython.display import HTML\n",
    "HTML('<iframe src=\"https://maps.lsst.rocks/epo/hsc/better/\" width=\"640\" height=\"360\" frameborder=\"0\" webkitallowfullscreen mozallowfullscreen allowfullscreen></iframe>')"
   ]
  },
  {
   "cell_type": "code",
   "execution_count": 3,
   "metadata": {},
   "outputs": [],
   "source": [
    "import sys\n",
    "sys.path.append(\"/home/jmatt/virtualenvs/default/lib/python3.5/site-packages\")\n",
    "import ipywidgets"
   ]
  },
  {
   "cell_type": "code",
   "execution_count": 4,
   "metadata": {},
   "outputs": [
    {
     "name": "stdout",
     "output_type": "stream",
     "text": [
      "\n",
      "\n",
      "<!-- Load require.js. Delete this if your page already loads require.js -->\n",
      "<script src=\"https://cdnjs.cloudflare.com/ajax/libs/require.js/2.3.4/require.min.js\" integrity=\"sha256-Ae2Vz/4ePdIu6ZyI/5ZGsYnb+m0JlOmKPjt6XZ9JJkA=\" crossorigin=\"anonymous\"></script>\n",
      "<script src=\"https://unpkg.com/@jupyter-widgets/html-manager@^0.10.0/dist/embed-amd.js\" crossorigin=\"anonymous\"></script>\n",
      "\n",
      "<script type=\"application/vnd.jupyter.widget-state+json\">\n",
      "{\n",
      "  \"version_major\": 2,\n",
      "  \"state\": {\n",
      "    \"fc7a66ceb8fb4a238b14e35daf3ca798\": {\n",
      "      \"model_module\": \"@jupyter-widgets/controls\",\n",
      "      \"model_module_version\": \"1.0.0\",\n",
      "      \"model_name\": \"IntSliderModel\",\n",
      "      \"state\": {\n",
      "        \"layout\": \"IPY_MODEL_4abcbadb1ed444fd9ec62a66fb1740ff\",\n",
      "        \"_dom_classes\": [],\n",
      "        \"style\": \"IPY_MODEL_66b74316fad14373b05817d62babe35a\",\n",
      "        \"value\": 40\n",
      "      }\n",
      "    },\n",
      "    \"66b74316fad14373b05817d62babe35a\": {\n",
      "      \"model_module\": \"@jupyter-widgets/controls\",\n",
      "      \"model_module_version\": \"1.0.0\",\n",
      "      \"model_name\": \"SliderStyleModel\",\n",
      "      \"state\": {}\n",
      "    },\n",
      "    \"0a62388a6dd14359a7c813cef37dad60\": {\n",
      "      \"model_module\": \"@jupyter-widgets/base\",\n",
      "      \"model_module_version\": \"1.0.0\",\n",
      "      \"model_name\": \"LayoutModel\",\n",
      "      \"state\": {}\n",
      "    },\n",
      "    \"1d42429c9e014d66b30f2abbba470148\": {\n",
      "      \"model_module\": \"@jupyter-widgets/controls\",\n",
      "      \"model_module_version\": \"1.0.0\",\n",
      "      \"model_name\": \"SliderStyleModel\",\n",
      "      \"state\": {}\n",
      "    },\n",
      "    \"18218967982c4bd4a2e20bc9ef5bea36\": {\n",
      "      \"model_module\": \"@jupyter-widgets/controls\",\n",
      "      \"model_module_version\": \"1.0.0\",\n",
      "      \"model_name\": \"SliderStyleModel\",\n",
      "      \"state\": {}\n",
      "    },\n",
      "    \"e4dc6b22986442ba981c77b4bffb9729\": {\n",
      "      \"model_module\": \"@jupyter-widgets/controls\",\n",
      "      \"model_module_version\": \"1.0.0\",\n",
      "      \"model_name\": \"SliderStyleModel\",\n",
      "      \"state\": {}\n",
      "    },\n",
      "    \"4abcbadb1ed444fd9ec62a66fb1740ff\": {\n",
      "      \"model_module\": \"@jupyter-widgets/base\",\n",
      "      \"model_module_version\": \"1.0.0\",\n",
      "      \"model_name\": \"LayoutModel\",\n",
      "      \"state\": {}\n",
      "    },\n",
      "    \"a5bb380a041243089a1a298ecbe613f6\": {\n",
      "      \"model_module\": \"@jupyter-widgets/base\",\n",
      "      \"model_module_version\": \"1.0.0\",\n",
      "      \"model_name\": \"LayoutModel\",\n",
      "      \"state\": {}\n",
      "    },\n",
      "    \"f4d2e31d19734076b3ca0652af7fa2db\": {\n",
      "      \"model_module\": \"@jupyter-widgets/controls\",\n",
      "      \"model_module_version\": \"1.0.0\",\n",
      "      \"model_name\": \"IntSliderModel\",\n",
      "      \"state\": {\n",
      "        \"layout\": \"IPY_MODEL_0a62388a6dd14359a7c813cef37dad60\",\n",
      "        \"_dom_classes\": [],\n",
      "        \"style\": \"IPY_MODEL_e4dc6b22986442ba981c77b4bffb9729\",\n",
      "        \"max\": 200,\n",
      "        \"value\": 100\n",
      "      }\n",
      "    },\n",
      "    \"14fbcedf54b14183bb56e563707b1e65\": {\n",
      "      \"model_module\": \"@jupyter-widgets/controls\",\n",
      "      \"model_module_version\": \"1.0.0\",\n",
      "      \"model_name\": \"IntSliderModel\",\n",
      "      \"state\": {\n",
      "        \"layout\": \"IPY_MODEL_a5bb380a041243089a1a298ecbe613f6\",\n",
      "        \"_dom_classes\": [],\n",
      "        \"style\": \"IPY_MODEL_18218967982c4bd4a2e20bc9ef5bea36\",\n",
      "        \"value\": 40\n",
      "      }\n",
      "    },\n",
      "    \"0d6223781b454e52ad51668090f4da6e\": {\n",
      "      \"model_module\": \"@jupyter-widgets/base\",\n",
      "      \"model_module_version\": \"1.0.0\",\n",
      "      \"model_name\": \"LayoutModel\",\n",
      "      \"state\": {}\n",
      "    },\n",
      "    \"76337ea72372473f861f0c3a2e8a5a63\": {\n",
      "      \"model_module\": \"@jupyter-widgets/controls\",\n",
      "      \"model_module_version\": \"1.0.0\",\n",
      "      \"model_name\": \"IntSliderModel\",\n",
      "      \"state\": {\n",
      "        \"layout\": \"IPY_MODEL_0d6223781b454e52ad51668090f4da6e\",\n",
      "        \"_dom_classes\": [],\n",
      "        \"style\": \"IPY_MODEL_1d42429c9e014d66b30f2abbba470148\",\n",
      "        \"max\": 200,\n",
      "        \"value\": 100\n",
      "      }\n",
      "    }\n",
      "  },\n",
      "  \"version_minor\": 0\n",
      "}\n",
      "</script>\n",
      "<script type=\"application/vnd.jupyter.widget-view+json\">\n",
      "{\"model_id\": \"76337ea72372473f861f0c3a2e8a5a63\", \"version_major\": 2, \"version_minor\": 0}\n",
      "</script>\n",
      "<script type=\"application/vnd.jupyter.widget-view+json\">\n",
      "{\"model_id\": \"14fbcedf54b14183bb56e563707b1e65\", \"version_major\": 2, \"version_minor\": 0}\n",
      "</script>\n",
      "\n"
     ]
    }
   ],
   "source": [
    "# What does it look like when it kinda doesn't work?\n",
    "from ipywidgets import IntSlider\n",
    "from ipywidgets.embed import embed_snippet\n",
    "\n",
    "s1, s2 = IntSlider(max=200, value=100), IntSlider(value=40)\n",
    "print(embed_snippet(views=[s1, s2], requirejs=True))"
   ]
  },
  {
   "cell_type": "code",
   "execution_count": null,
   "metadata": {},
   "outputs": [],
   "source": []
  }
 ],
 "metadata": {
  "kernelspec": {
   "display_name": "LSST_Stack (Python 3)",
   "language": "python",
   "name": "lsst_stack"
  },
  "language_info": {
   "codemirror_mode": {
    "name": "ipython",
    "version": 3
   },
   "file_extension": ".py",
   "mimetype": "text/x-python",
   "name": "python",
   "nbconvert_exporter": "python",
   "pygments_lexer": "ipython3",
   "version": "3.5.2"
  }
 },
 "nbformat": 4,
 "nbformat_minor": 2
}
