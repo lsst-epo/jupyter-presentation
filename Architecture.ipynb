{
 "cells": [
  {
   "cell_type": "markdown",
   "metadata": {},
   "source": [
    "# Kubernetes\n",
    "\n",
    "> Kubernetes is an open-source system for automating deployment, scaling, and management of containerized applications. It groups containers that make up an application into logical units for easy management and discovery."
   ]
  },
  {
   "cell_type": "markdown",
   "metadata": {},
   "source": [
    "<img src=\"https://upload.wikimedia.org/wikipedia/commons/thumb/b/be/Kubernetes.png/600px-Kubernetes.png\"/>"
   ]
  },
  {
   "cell_type": "markdown",
   "metadata": {},
   "source": [
    "## What is a pod?\n",
    "<p>\n",
    "<img src=\"https://3.bp.blogspot.com/-xzimXY32sfE/V1GAbZZAm0I/AAAAAAAAAOA/OdSqetM2OZU013rcO_GEyW3YNn2swejhwCLcB/s1600/kubernetes%2Bpods.png\"/>"
   ]
  },
  {
   "cell_type": "markdown",
   "metadata": {},
   "source": [
    "## What is a node?\n",
    "<p>\n",
    "<img src=\"https://fortunedotcom.files.wordpress.com/2015/06/screen-shot-2015-06-24-at-11-54-41-am.png?w=720\"/>"
   ]
  },
  {
   "cell_type": "markdown",
   "metadata": {},
   "source": [
    "# What is Jupyter"
   ]
  },
  {
   "cell_type": "markdown",
   "metadata": {},
   "source": [
    "## Jupyterhub server\n",
    "\n",
    "A Jupyter server server.\n",
    "\n",
    "<img src=\"https://image.slidesharecdn.com/lbl-sep-2015-150919171801-lva1-app6891/95/jupyter-a-platform-for-data-science-at-scale-29-638.jpg?cb=1442683291\"/>"
   ]
  },
  {
   "cell_type": "markdown",
   "metadata": {},
   "source": [
    "# Jupyter server (interactive computing protocol)\n",
    "\n",
    "<img src=\"https://image.slidesharecdn.com/lbl-sep-2015-150919171801-lva1-app6891/95/jupyter-a-platform-for-data-science-at-scale-27-638.jpg?cb=1442683291\"/>"
   ]
  },
  {
   "cell_type": "markdown",
   "metadata": {},
   "source": [
    "## Notebook Document Format (ipynb)\n",
    "\n",
    "<img src=\"https://image.slidesharecdn.com/lbl-sep-2015-150919171801-lva1-app6891/95/jupyter-a-platform-for-data-science-at-scale-16-638.jpg?cb=1442683291\"/>"
   ]
  },
  {
   "cell_type": "code",
   "execution_count": null,
   "metadata": {},
   "outputs": [],
   "source": []
  }
 ],
 "metadata": {
  "kernelspec": {
   "display_name": "Python 3",
   "language": "python",
   "name": "python3"
  },
  "language_info": {
   "codemirror_mode": {
    "name": "ipython",
    "version": 3
   },
   "file_extension": ".py",
   "mimetype": "text/x-python",
   "name": "python",
   "nbconvert_exporter": "python",
   "pygments_lexer": "ipython3",
   "version": "3.4.5"
  }
 },
 "nbformat": 4,
 "nbformat_minor": 2
}
